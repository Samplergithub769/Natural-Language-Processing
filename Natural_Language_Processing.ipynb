{
  "nbformat": 4,
  "nbformat_minor": 0,
  "metadata": {
    "colab": {
      "provenance": [],
      "authorship_tag": "ABX9TyOUhTBlVVL3Y5evQoeywTRd",
      "include_colab_link": true
    },
    "kernelspec": {
      "name": "python3",
      "display_name": "Python 3"
    },
    "language_info": {
      "name": "python"
    }
  },
  "cells": [
    {
      "cell_type": "markdown",
      "metadata": {
        "id": "view-in-github",
        "colab_type": "text"
      },
      "source": [
        "<a href=\"https://colab.research.google.com/github/Samplergithub769/Natural-Language-Processing/blob/main/Natural_Language_Processing.ipynb\" target=\"_parent\"><img src=\"https://colab.research.google.com/assets/colab-badge.svg\" alt=\"Open In Colab\"/></a>"
      ]
    },
    {
      "cell_type": "code",
      "execution_count": 8,
      "metadata": {
        "colab": {
          "base_uri": "https://localhost:8080/"
        },
        "id": "3sz_H29d22hv",
        "outputId": "e52536e1-7e86-4b38-e4ae-e7a7cd8526bc"
      },
      "outputs": [
        {
          "output_type": "stream",
          "name": "stdout",
          "text": [
            "Requirement already satisfied: nltk in /usr/local/lib/python3.11/dist-packages (3.9.1)\n",
            "Requirement already satisfied: click in /usr/local/lib/python3.11/dist-packages (from nltk) (8.2.1)\n",
            "Requirement already satisfied: joblib in /usr/local/lib/python3.11/dist-packages (from nltk) (1.5.1)\n",
            "Requirement already satisfied: regex>=2021.8.3 in /usr/local/lib/python3.11/dist-packages (from nltk) (2024.11.6)\n",
            "Requirement already satisfied: tqdm in /usr/local/lib/python3.11/dist-packages (from nltk) (4.67.1)\n"
          ]
        }
      ],
      "source": [
        "!pip install nltk"
      ]
    },
    {
      "cell_type": "code",
      "source": [
        "Paragraph=\"\"\"Elon Reeve Musk (/ˈiːlɒn/ EE-lon; born June 28, 1971) is a businessman known for his leadership of Tesla, SpaceX, X (formerly Twitter), and the Department of Government Efficiency (DOGE). Musk has been considered the wealthiest person in the world since 2021; as of May 2025, Forbes estimates his net worth to be US$424.7 billion.\n",
        "\n",
        "Born to a wealthy family in Pretoria, South Africa, Musk emigrated in 1989 to Canada. He received bachelor's degrees from the University of Pennsylvania in 1997 before moving to California, United States, to pursue business ventures. In 1995, Musk co-founded the software company Zip2. Following its sale in 1999, he co-founded X.com, an online payment company that later merged to form PayPal, which was acquired by eBay in 2002. That year, Musk also became an American citizen.\n",
        "\n",
        "In 2002, Musk founded the space technology company SpaceX, becoming its CEO and chief engineer; the company has since led innovations in reusable rockets and commercial spaceflight. Musk joined the automaker Tesla as an early investor in 2004 and became its CEO and product architect in 2008; it has since become a leader in electric vehicles. In 2015, he co-founded OpenAI to advance artificial intelligence research but later left; growing discontent with the organization's direction and their leadership in the AI boom in the 2020s led him to establish xAI. In 2022, he acquired the social network Twitter, implementing significant changes and rebranding it as X in 2023. His other businesses include the neurotechnology company Neuralink, which he co-founded in 2016, and the tunneling company the Boring Company, which he founded in 2017. He was named Time magazine's Person of the Year in 2021.\"\"\""
      ],
      "metadata": {
        "id": "E2Mh9yMA3FnN"
      },
      "execution_count": 9,
      "outputs": []
    },
    {
      "cell_type": "code",
      "source": [
        "import nltk\n",
        "from nltk.stem import PorterStemmer\n",
        "from nltk.corpus import stopwords"
      ],
      "metadata": {
        "id": "qdR4e6W13qJX"
      },
      "execution_count": 10,
      "outputs": []
    },
    {
      "cell_type": "code",
      "source": [
        "nltk.download('punkt_tab')"
      ],
      "metadata": {
        "colab": {
          "base_uri": "https://localhost:8080/"
        },
        "id": "pf6u22wH4Ngm",
        "outputId": "c69a27b1-cb8d-4e92-ec34-19b6c533b5bf"
      },
      "execution_count": 11,
      "outputs": [
        {
          "output_type": "stream",
          "name": "stderr",
          "text": [
            "[nltk_data] Downloading package punkt_tab to /root/nltk_data...\n",
            "[nltk_data]   Unzipping tokenizers/punkt_tab.zip.\n"
          ]
        },
        {
          "output_type": "execute_result",
          "data": {
            "text/plain": [
              "True"
            ]
          },
          "metadata": {},
          "execution_count": 11
        }
      ]
    },
    {
      "cell_type": "code",
      "source": [
        "Sentence=nltk.sent_tokenize(Paragraph)"
      ],
      "metadata": {
        "id": "HmYJGcam5Ei_"
      },
      "execution_count": 12,
      "outputs": []
    },
    {
      "cell_type": "code",
      "source": [
        "type(Sentence)\n"
      ],
      "metadata": {
        "colab": {
          "base_uri": "https://localhost:8080/"
        },
        "id": "XA6jMEj75_pk",
        "outputId": "4db9440a-2fd1-424d-d7cc-0f705d4ca9aa"
      },
      "execution_count": 13,
      "outputs": [
        {
          "output_type": "execute_result",
          "data": {
            "text/plain": [
              "list"
            ]
          },
          "metadata": {},
          "execution_count": 13
        }
      ]
    },
    {
      "cell_type": "code",
      "source": [
        "print(Sentence)"
      ],
      "metadata": {
        "colab": {
          "base_uri": "https://localhost:8080/"
        },
        "id": "Rcrs50yk6IzT",
        "outputId": "4a931536-a08a-4b31-a42a-4bf22354d4fe"
      },
      "execution_count": 14,
      "outputs": [
        {
          "output_type": "stream",
          "name": "stdout",
          "text": [
            "['Elon Reeve Musk (/ˈiːlɒn/ EE-lon; born June 28, 1971) is a businessman known for his leadership of Tesla, SpaceX, X (formerly Twitter), and the Department of Government Efficiency (DOGE).', 'Musk has been considered the wealthiest person in the world since 2021; as of May 2025, Forbes estimates his net worth to be US$424.7 billion.', 'Born to a wealthy family in Pretoria, South Africa, Musk emigrated in 1989 to Canada.', \"He received bachelor's degrees from the University of Pennsylvania in 1997 before moving to California, United States, to pursue business ventures.\", 'In 1995, Musk co-founded the software company Zip2.', 'Following its sale in 1999, he co-founded X.com, an online payment company that later merged to form PayPal, which was acquired by eBay in 2002.', 'That year, Musk also became an American citizen.', 'In 2002, Musk founded the space technology company SpaceX, becoming its CEO and chief engineer; the company has since led innovations in reusable rockets and commercial spaceflight.', 'Musk joined the automaker Tesla as an early investor in 2004 and became its CEO and product architect in 2008; it has since become a leader in electric vehicles.', \"In 2015, he co-founded OpenAI to advance artificial intelligence research but later left; growing discontent with the organization's direction and their leadership in the AI boom in the 2020s led him to establish xAI.\", 'In 2022, he acquired the social network Twitter, implementing significant changes and rebranding it as X in 2023.', 'His other businesses include the neurotechnology company Neuralink, which he co-founded in 2016, and the tunneling company the Boring Company, which he founded in 2017.', \"He was named Time magazine's Person of the Year in 2021.\"]\n"
          ]
        }
      ]
    },
    {
      "cell_type": "code",
      "source": [
        "Stemmer=PorterStemmer()\n",
        "Stemmer.stem(\"going\")"
      ],
      "metadata": {
        "colab": {
          "base_uri": "https://localhost:8080/",
          "height": 36
        },
        "id": "RcYLaCZi6Vco",
        "outputId": "bf50bebc-e8b9-47cf-be85-5e64b84f7356"
      },
      "execution_count": 15,
      "outputs": [
        {
          "output_type": "execute_result",
          "data": {
            "text/plain": [
              "'go'"
            ],
            "application/vnd.google.colaboratory.intrinsic+json": {
              "type": "string"
            }
          },
          "metadata": {},
          "execution_count": 15
        }
      ]
    },
    {
      "cell_type": "code",
      "source": [
        "nltk.download(\"wordnet\")"
      ],
      "metadata": {
        "colab": {
          "base_uri": "https://localhost:8080/"
        },
        "id": "V8wct1hR7VFl",
        "outputId": "8dc291a2-b7b9-469b-ef36-ecf6ad8d103e"
      },
      "execution_count": 19,
      "outputs": [
        {
          "output_type": "stream",
          "name": "stderr",
          "text": [
            "[nltk_data] Downloading package wordnet to /root/nltk_data...\n"
          ]
        },
        {
          "output_type": "execute_result",
          "data": {
            "text/plain": [
              "True"
            ]
          },
          "metadata": {},
          "execution_count": 19
        }
      ]
    },
    {
      "cell_type": "code",
      "source": [
        "from nltk.stem import WordNetLemmatizer\n",
        "lemmatizer=WordNetLemmatizer()\n",
        "lemmatizer.lemmatize(\"goes\")\n"
      ],
      "metadata": {
        "colab": {
          "base_uri": "https://localhost:8080/",
          "height": 36
        },
        "id": "e6f7IXUQ7vPh",
        "outputId": "62455126-133d-4e0c-f740-6dba722a94e5"
      },
      "execution_count": 23,
      "outputs": [
        {
          "output_type": "execute_result",
          "data": {
            "text/plain": [
              "'go'"
            ],
            "application/vnd.google.colaboratory.intrinsic+json": {
              "type": "string"
            }
          },
          "metadata": {},
          "execution_count": 23
        }
      ]
    },
    {
      "cell_type": "code",
      "source": [
        "import re\n",
        "corpus=[]\n",
        "for i in range(len(Sentence)):\n",
        "  text=re.sub('[^a-zA-Z]',\" \", Sentence[i])\n",
        "  text=text.lower()\n",
        "  corpus.append(text)\n",
        "corpus"
      ],
      "metadata": {
        "colab": {
          "base_uri": "https://localhost:8080/"
        },
        "id": "uamFqruB8pg_",
        "outputId": "f0f985ba-fabf-4aa6-8d00-c57a136496a4"
      },
      "execution_count": 25,
      "outputs": [
        {
          "output_type": "execute_result",
          "data": {
            "text/plain": [
              "['elon reeve musk    i l n  ee lon  born june           is a businessman known for his leadership of tesla  spacex  x  formerly twitter   and the department of government efficiency  doge  ',\n",
              " 'musk has been considered the wealthiest person in the world since       as of may       forbes estimates his net worth to be us       billion ',\n",
              " 'born to a wealthy family in pretoria  south africa  musk emigrated in      to canada ',\n",
              " 'he received bachelor s degrees from the university of pennsylvania in      before moving to california  united states  to pursue business ventures ',\n",
              " 'in       musk co founded the software company zip  ',\n",
              " 'following its sale in       he co founded x com  an online payment company that later merged to form paypal  which was acquired by ebay in      ',\n",
              " 'that year  musk also became an american citizen ',\n",
              " 'in       musk founded the space technology company spacex  becoming its ceo and chief engineer  the company has since led innovations in reusable rockets and commercial spaceflight ',\n",
              " 'musk joined the automaker tesla as an early investor in      and became its ceo and product architect in       it has since become a leader in electric vehicles ',\n",
              " 'in       he co founded openai to advance artificial intelligence research but later left  growing discontent with the organization s direction and their leadership in the ai boom in the     s led him to establish xai ',\n",
              " 'in       he acquired the social network twitter  implementing significant changes and rebranding it as x in      ',\n",
              " 'his other businesses include the neurotechnology company neuralink  which he co founded in       and the tunneling company the boring company  which he founded in      ',\n",
              " 'he was named time magazine s person of the year in      ']"
            ]
          },
          "metadata": {},
          "execution_count": 25
        }
      ]
    },
    {
      "cell_type": "code",
      "source": [
        "nltk.download('stopwords')\n"
      ],
      "metadata": {
        "colab": {
          "base_uri": "https://localhost:8080/"
        },
        "id": "pip7y17B9Df4",
        "outputId": "cc464aae-083c-47e5-b65d-e8a784eb3e50"
      },
      "execution_count": 26,
      "outputs": [
        {
          "output_type": "stream",
          "name": "stderr",
          "text": [
            "[nltk_data] Downloading package stopwords to /root/nltk_data...\n",
            "[nltk_data]   Unzipping corpora/stopwords.zip.\n"
          ]
        },
        {
          "output_type": "execute_result",
          "data": {
            "text/plain": [
              "True"
            ]
          },
          "metadata": {},
          "execution_count": 26
        }
      ]
    },
    {
      "cell_type": "code",
      "source": [
        "for i in corpus:\n",
        "  words=nltk.word_tokenize(i)\n",
        "  for word in words:\n",
        "    if word not in set (stopwords.words(\"english\")):\n",
        "      print(Stemmer.stem(word))"
      ],
      "metadata": {
        "colab": {
          "base_uri": "https://localhost:8080/"
        },
        "id": "XQt9jiyuAumL",
        "outputId": "afdd2993-4259-49f1-f0e4-14b3694d0453"
      },
      "execution_count": 28,
      "outputs": [
        {
          "output_type": "stream",
          "name": "stdout",
          "text": [
            "elon\n",
            "reev\n",
            "musk\n",
            "l\n",
            "n\n",
            "ee\n",
            "lon\n",
            "born\n",
            "june\n",
            "businessman\n",
            "known\n",
            "leadership\n",
            "tesla\n",
            "spacex\n",
            "x\n",
            "formerli\n",
            "twitter\n",
            "depart\n",
            "govern\n",
            "effici\n",
            "doge\n",
            "musk\n",
            "consid\n",
            "wealthiest\n",
            "person\n",
            "world\n",
            "sinc\n",
            "may\n",
            "forb\n",
            "estim\n",
            "net\n",
            "worth\n",
            "us\n",
            "billion\n",
            "born\n",
            "wealthi\n",
            "famili\n",
            "pretoria\n",
            "south\n",
            "africa\n",
            "musk\n",
            "emigr\n",
            "canada\n",
            "receiv\n",
            "bachelor\n",
            "degre\n",
            "univers\n",
            "pennsylvania\n",
            "move\n",
            "california\n",
            "unit\n",
            "state\n",
            "pursu\n",
            "busi\n",
            "ventur\n",
            "musk\n",
            "co\n",
            "found\n",
            "softwar\n",
            "compani\n",
            "zip\n",
            "follow\n",
            "sale\n",
            "co\n",
            "found\n",
            "x\n",
            "com\n",
            "onlin\n",
            "payment\n",
            "compani\n",
            "later\n",
            "merg\n",
            "form\n",
            "paypal\n",
            "acquir\n",
            "ebay\n",
            "year\n",
            "musk\n",
            "also\n",
            "becam\n",
            "american\n",
            "citizen\n",
            "musk\n",
            "found\n",
            "space\n",
            "technolog\n",
            "compani\n",
            "spacex\n",
            "becom\n",
            "ceo\n",
            "chief\n",
            "engin\n",
            "compani\n",
            "sinc\n",
            "led\n",
            "innov\n",
            "reusabl\n",
            "rocket\n",
            "commerci\n",
            "spaceflight\n",
            "musk\n",
            "join\n",
            "automak\n",
            "tesla\n",
            "earli\n",
            "investor\n",
            "becam\n",
            "ceo\n",
            "product\n",
            "architect\n",
            "sinc\n",
            "becom\n",
            "leader\n",
            "electr\n",
            "vehicl\n",
            "co\n",
            "found\n",
            "openai\n",
            "advanc\n",
            "artifici\n",
            "intellig\n",
            "research\n",
            "later\n",
            "left\n",
            "grow\n",
            "discont\n",
            "organ\n",
            "direct\n",
            "leadership\n",
            "ai\n",
            "boom\n",
            "led\n",
            "establish\n",
            "xai\n",
            "acquir\n",
            "social\n",
            "network\n",
            "twitter\n",
            "implement\n",
            "signific\n",
            "chang\n",
            "rebrand\n",
            "x\n",
            "busi\n",
            "includ\n",
            "neurotechnolog\n",
            "compani\n",
            "neuralink\n",
            "co\n",
            "found\n",
            "tunnel\n",
            "compani\n",
            "bore\n",
            "compani\n",
            "found\n",
            "name\n",
            "time\n",
            "magazin\n",
            "person\n",
            "year\n"
          ]
        }
      ]
    },
    {
      "cell_type": "code",
      "source": [
        "from sklearn.feature_extraction.text import CountVectorizer\n",
        "cv=CountVectorizer()\n",
        "x=cv.fit_transform(corpus)\n",
        "cv.vocabulary_"
      ],
      "metadata": {
        "colab": {
          "base_uri": "https://localhost:8080/"
        },
        "id": "isqXMnHBB-W3",
        "outputId": "b091fdfa-c984-4661-f539-b3f4236030bf"
      },
      "execution_count": 29,
      "outputs": [
        {
          "output_type": "execute_result",
          "data": {
            "text/plain": [
              "{'elon': 49,\n",
              " 'reeve': 110,\n",
              " 'musk': 90,\n",
              " 'ee': 46,\n",
              " 'lon': 85,\n",
              " 'born': 22,\n",
              " 'june': 78,\n",
              " 'is': 74,\n",
              " 'businessman': 25,\n",
              " 'known': 79,\n",
              " 'for': 56,\n",
              " 'his': 67,\n",
              " 'leadership': 82,\n",
              " 'of': 96,\n",
              " 'tesla': 125,\n",
              " 'spacex': 122,\n",
              " 'formerly': 59,\n",
              " 'twitter': 132,\n",
              " 'and': 7,\n",
              " 'the': 127,\n",
              " 'department': 40,\n",
              " 'government': 62,\n",
              " 'efficiency': 47,\n",
              " 'doge': 43,\n",
              " 'has': 64,\n",
              " 'been': 17,\n",
              " 'considered': 38,\n",
              " 'wealthiest': 139,\n",
              " 'person': 104,\n",
              " 'in': 69,\n",
              " 'world': 143,\n",
              " 'since': 116,\n",
              " 'as': 10,\n",
              " 'may': 87,\n",
              " 'forbes': 57,\n",
              " 'estimates': 53,\n",
              " 'net': 92,\n",
              " 'worth': 144,\n",
              " 'to': 130,\n",
              " 'be': 13,\n",
              " 'us': 135,\n",
              " 'billion': 19,\n",
              " 'wealthy': 140,\n",
              " 'family': 54,\n",
              " 'pretoria': 105,\n",
              " 'south': 119,\n",
              " 'africa': 2,\n",
              " 'emigrated': 50,\n",
              " 'canada': 29,\n",
              " 'he': 65,\n",
              " 'received': 109,\n",
              " 'bachelor': 12,\n",
              " 'degrees': 39,\n",
              " 'from': 61,\n",
              " 'university': 134,\n",
              " 'pennsylvania': 103,\n",
              " 'before': 18,\n",
              " 'moving': 89,\n",
              " 'california': 28,\n",
              " 'united': 133,\n",
              " 'states': 123,\n",
              " 'pursue': 107,\n",
              " 'business': 23,\n",
              " 'ventures': 137,\n",
              " 'co': 34,\n",
              " 'founded': 60,\n",
              " 'software': 118,\n",
              " 'company': 37,\n",
              " 'zip': 147,\n",
              " 'following': 55,\n",
              " 'its': 76,\n",
              " 'sale': 114,\n",
              " 'com': 35,\n",
              " 'an': 6,\n",
              " 'online': 97,\n",
              " 'payment': 101,\n",
              " 'that': 126,\n",
              " 'later': 80,\n",
              " 'merged': 88,\n",
              " 'form': 58,\n",
              " 'paypal': 102,\n",
              " 'which': 141,\n",
              " 'was': 138,\n",
              " 'acquired': 0,\n",
              " 'by': 27,\n",
              " 'ebay': 45,\n",
              " 'year': 146,\n",
              " 'also': 4,\n",
              " 'became': 14,\n",
              " 'american': 5,\n",
              " 'citizen': 33,\n",
              " 'space': 120,\n",
              " 'technology': 124,\n",
              " 'becoming': 16,\n",
              " 'ceo': 30,\n",
              " 'chief': 32,\n",
              " 'engineer': 51,\n",
              " 'led': 83,\n",
              " 'innovations': 71,\n",
              " 'reusable': 112,\n",
              " 'rockets': 113,\n",
              " 'commercial': 36,\n",
              " 'spaceflight': 121,\n",
              " 'joined': 77,\n",
              " 'automaker': 11,\n",
              " 'early': 44,\n",
              " 'investor': 73,\n",
              " 'product': 106,\n",
              " 'architect': 8,\n",
              " 'it': 75,\n",
              " 'become': 15,\n",
              " 'leader': 81,\n",
              " 'electric': 48,\n",
              " 'vehicles': 136,\n",
              " 'openai': 98,\n",
              " 'advance': 1,\n",
              " 'artificial': 9,\n",
              " 'intelligence': 72,\n",
              " 'research': 111,\n",
              " 'but': 26,\n",
              " 'left': 84,\n",
              " 'growing': 63,\n",
              " 'discontent': 42,\n",
              " 'with': 142,\n",
              " 'organization': 99,\n",
              " 'direction': 41,\n",
              " 'their': 128,\n",
              " 'ai': 3,\n",
              " 'boom': 20,\n",
              " 'him': 66,\n",
              " 'establish': 52,\n",
              " 'xai': 145,\n",
              " 'social': 117,\n",
              " 'network': 93,\n",
              " 'implementing': 68,\n",
              " 'significant': 115,\n",
              " 'changes': 31,\n",
              " 'rebranding': 108,\n",
              " 'other': 100,\n",
              " 'businesses': 24,\n",
              " 'include': 70,\n",
              " 'neurotechnology': 95,\n",
              " 'neuralink': 94,\n",
              " 'tunneling': 131,\n",
              " 'boring': 21,\n",
              " 'named': 91,\n",
              " 'time': 129,\n",
              " 'magazine': 86}"
            ]
          },
          "metadata": {},
          "execution_count": 29
        }
      ]
    }
  ]
}