{
  "nbformat": 4,
  "nbformat_minor": 0,
  "metadata": {
    "colab": {
      "provenance": [],
      "authorship_tag": "ABX9TyM3n9koz43jW2wNaA7eVtI/",
      "include_colab_link": true
    },
    "kernelspec": {
      "name": "python3",
      "display_name": "Python 3"
    },
    "language_info": {
      "name": "python"
    }
  },
  "cells": [
    {
      "cell_type": "markdown",
      "metadata": {
        "id": "view-in-github",
        "colab_type": "text"
      },
      "source": [
        "<a href=\"https://colab.research.google.com/github/Samplergithub769/Natural-Language-Processing/blob/main/Natural_Language_Processing_2.ipynb\" target=\"_parent\"><img src=\"https://colab.research.google.com/assets/colab-badge.svg\" alt=\"Open In Colab\"/></a>"
      ]
    },
    {
      "cell_type": "code",
      "execution_count": null,
      "metadata": {
        "colab": {
          "base_uri": "https://localhost:8080/"
        },
        "id": "p2-s5dOQt_xB",
        "outputId": "f093cad0-ea48-4b5e-ee7d-b76037db8993"
      },
      "outputs": [
        {
          "output_type": "stream",
          "name": "stdout",
          "text": [
            "Requirement already satisfied: scikit-learn in /usr/local/lib/python3.11/dist-packages (1.6.1)\n",
            "Requirement already satisfied: numpy>=1.19.5 in /usr/local/lib/python3.11/dist-packages (from scikit-learn) (2.0.2)\n",
            "Requirement already satisfied: scipy>=1.6.0 in /usr/local/lib/python3.11/dist-packages (from scikit-learn) (1.15.3)\n",
            "Requirement already satisfied: joblib>=1.2.0 in /usr/local/lib/python3.11/dist-packages (from scikit-learn) (1.5.1)\n",
            "Requirement already satisfied: threadpoolctl>=3.1.0 in /usr/local/lib/python3.11/dist-packages (from scikit-learn) (3.6.0)\n",
            "{'love': 5, 'machine': 6, 'learning': 4, 'is': 2, 'fun': 1, 'enjoy': 0, 'new': 8, 'things': 12, 'natural': 7, 'language': 3, 'processing': 11, 'part': 10, 'of': 9}\n"
          ]
        }
      ],
      "source": [
        "33!pip install scikit-learn\n",
        "from sklearn.feature_extraction.text import TfidfVectorizer\n",
        "corpus=[\"I love Machine Learning\",\n",
        "        \"Machine Learning is fun\",\n",
        "        \"I enjoy learning new things\",\n",
        "        \"Natural Language Processing is a part of Machine Learning\"\n",
        "        ]\n",
        "v=TfidfVectorizer()\n",
        "result=v.fit_transform(corpus)\n",
        "print(v.vocabulary_)\n",
        "\n",
        "\n",
        "\n"
      ]
    },
    {
      "cell_type": "markdown",
      "source": [
        "This is not a TF-IDF score. It is just a mapping of each unique word to a column index in the internal TF-IDF matrix."
      ],
      "metadata": {
        "id": "TdXEA7Pl3zab"
      }
    },
    {
      "cell_type": "code",
      "source": [
        "print(result)"
      ],
      "metadata": {
        "colab": {
          "base_uri": "https://localhost:8080/"
        },
        "id": "niBJMPPRuboG",
        "outputId": "c8341d26-05f1-4309-80e2-41202e737608"
      },
      "execution_count": null,
      "outputs": [
        {
          "output_type": "stream",
          "name": "stdout",
          "text": [
            "<Compressed Sparse Row sparse matrix of dtype 'float64'\n",
            "\twith 19 stored elements and shape (4, 13)>\n",
            "  Coords\tValues\n",
            "  (0, 5)\t0.7715790094657221\n",
            "  (0, 6)\t0.4924888870251974\n",
            "  (0, 4)\t0.40264193560603856\n",
            "  (1, 6)\t0.42075315164463567\n",
            "  (1, 4)\t0.3439932714296342\n",
            "  (1, 2)\t0.5197138488789809\n",
            "  (1, 1)\t0.6591911178676787\n",
            "  (2, 4)\t0.2884767487500274\n",
            "  (2, 0)\t0.5528053199908667\n",
            "  (2, 8)\t0.5528053199908667\n",
            "  (2, 12)\t0.5528053199908667\n",
            "  (3, 6)\t0.2542729780776389\n",
            "  (3, 4)\t0.20788482088176372\n",
            "  (3, 2)\t0.31407771418017194\n",
            "  (3, 7)\t0.39836775555304266\n",
            "  (3, 3)\t0.39836775555304266\n",
            "  (3, 11)\t0.39836775555304266\n",
            "  (3, 10)\t0.39836775555304266\n",
            "  (3, 9)\t0.39836775555304266\n"
          ]
        }
      ]
    },
    {
      "cell_type": "code",
      "source": [
        "all_feature_names=v.get_feature_names_out()\n",
        "for word in all_feature_names:\n",
        "  index=v.vocabulary_.get(word)\n",
        "  idf_score=v.idf_[index]\n",
        "  print(f\"{word} {idf_score}\")\n",
        "\n",
        "\n"
      ],
      "metadata": {
        "colab": {
          "base_uri": "https://localhost:8080/"
        },
        "id": "qmWZAphzyXTd",
        "outputId": "5cf1f5c8-d176-482a-c684-b6a7c37247d9"
      },
      "execution_count": null,
      "outputs": [
        {
          "output_type": "stream",
          "name": "stdout",
          "text": [
            "enjoy 1.916290731874155\n",
            "fun 1.916290731874155\n",
            "is 1.5108256237659907\n",
            "language 1.916290731874155\n",
            "learning 1.0\n",
            "love 1.916290731874155\n",
            "machine 1.2231435513142097\n",
            "natural 1.916290731874155\n",
            "new 1.916290731874155\n",
            "of 1.916290731874155\n",
            "part 1.916290731874155\n",
            "processing 1.916290731874155\n",
            "things 1.916290731874155\n"
          ]
        }
      ]
    }
  ]
}